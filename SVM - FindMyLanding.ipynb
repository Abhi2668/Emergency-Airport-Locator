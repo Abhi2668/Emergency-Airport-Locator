{
 "cells": [
  {
   "cell_type": "code",
   "execution_count": 1,
   "id": "initial_id",
   "metadata": {
    "collapsed": true,
    "ExecuteTime": {
     "end_time": "2023-12-04T18:59:32.748489Z",
     "start_time": "2023-12-04T18:59:28.234707Z"
    }
   },
   "outputs": [],
   "source": [
    "import matplotlib.pyplot as plt\n",
    "import geopandas as gpd\n",
    "from geopandas import GeoDataFrame\n",
    "import warnings\n",
    "from shapely import Point\n",
    "import pandas as pd\n",
    "from svm import AirportSVM\n",
    "import utils\n",
    "from data.data_worker import DataWorker\n",
    "import numpy as np\n",
    "\n",
    "%load_ext autoreload\n",
    "%autoreload 2"
   ]
  },
  {
   "cell_type": "code",
   "execution_count": 2,
   "outputs": [],
   "source": [
    "# Ignore deprecation warnings from Geopandas for the map use\n",
    "warnings.simplefilter(action='ignore', category=FutureWarning)"
   ],
   "metadata": {
    "collapsed": false,
    "ExecuteTime": {
     "end_time": "2023-12-04T18:59:32.825777Z",
     "start_time": "2023-12-04T18:59:32.749481Z"
    }
   },
   "id": "cfbe0d132d966b01"
  },
  {
   "cell_type": "code",
   "execution_count": 3,
   "outputs": [
    {
     "name": "stdout",
     "output_type": "stream",
     "text": [
      "VALIDATING...\n",
      "ERROR: Missing data in DF. Killing rows containing missing data.\n",
      "\n",
      "No. Workable Rows: 31704\n"
     ]
    }
   ],
   "source": [
    "worker = DataWorker(\"data/datasets_raw/airports.csv\", \"data/datasets_raw/runways.csv\")\n",
    "\n",
    "removal_cols_1 = [\"continent\", \"iso_country\", \"iso_region\", \"municipality\", \"scheduled_service\", \"gps_code\",\n",
    "                  \"iata_code\", \"local_code\", \"home_link\", \"wikipedia_link\", \"keywords\"]\n",
    "\n",
    "removal_cols_2 = [\"id\", \"ident\", \"width_ft\", \"surface\", \"lighted\", \"closed\", \"le_ident\", \"le_latitude_deg\", \"le_longitude_deg\",\n",
    "                  \"le_elevation_ft\", \"le_heading_degT\", \"le_displaced_threshold_ft\", \"he_ident\", \"he_latitude_deg\",\n",
    "                  \"he_longitude_deg\", \"he_elevation_ft\", \"he_heading_degT\", \"he_displaced_threshold_ft\"]\n",
    "\n",
    "worker.clean_raws(removal_cols_1, removal_cols_2)\n",
    "worker.merge()\n",
    "\n",
    "print(f\"\\nNo. Workable Rows: {worker.merged_data.shape[0]}\\n\")\n",
    "\n",
    "path = \"data/datasets_merged/merged_data.pkl\"\n",
    "worker.merged_data.to_pickle(path)"
   ],
   "metadata": {
    "collapsed": false,
    "ExecuteTime": {
     "end_time": "2023-12-04T18:59:33.889091Z",
     "start_time": "2023-12-04T18:59:32.832328Z"
    }
   },
   "id": "4a2335a119bee7e1"
  },
  {
   "cell_type": "markdown",
   "source": [
    "Now we have clean and merged data that we can work with in the order of the 30,000s. This is what we will use to pass forward to the SVM, but it may need to be reduced to actually parse at a reasonable rate, or reduce the features."
   ],
   "metadata": {
    "collapsed": false
   },
   "id": "8c518ea156a26acb"
  },
  {
   "cell_type": "code",
   "execution_count": null,
   "outputs": [],
   "source": [
    "test_set = pd.read_pickle('data/datasets_labeled/test_set.pkl')\n",
    "print(test_set)"
   ],
   "metadata": {
    "collapsed": false
   },
   "id": "88243207829dc27f"
  },
  {
   "cell_type": "code",
   "execution_count": null,
   "outputs": [
    {
     "name": "stdout",
     "output_type": "stream",
     "text": [
      "Data Prepared\n"
     ]
    }
   ],
   "source": [
    "svm = AirportSVM(airports=worker.merged_data, test_set=test_set)\n",
    "svm.fit()"
   ],
   "metadata": {
    "collapsed": false,
    "ExecuteTime": {
     "start_time": "2023-12-04T19:00:18.424458Z"
    }
   },
   "id": "7c96744a3eedca58"
  },
  {
   "cell_type": "code",
   "execution_count": null,
   "outputs": [],
   "source": [],
   "metadata": {
    "collapsed": false
   },
   "id": "cc7cb12cfce0f15c"
  }
 ],
 "metadata": {
  "kernelspec": {
   "display_name": "Python 3",
   "language": "python",
   "name": "python3"
  },
  "language_info": {
   "codemirror_mode": {
    "name": "ipython",
    "version": 2
   },
   "file_extension": ".py",
   "mimetype": "text/x-python",
   "name": "python",
   "nbconvert_exporter": "python",
   "pygments_lexer": "ipython2",
   "version": "2.7.6"
  }
 },
 "nbformat": 4,
 "nbformat_minor": 5
}
